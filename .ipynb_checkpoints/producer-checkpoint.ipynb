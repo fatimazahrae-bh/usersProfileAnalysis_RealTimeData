{
 "cells": [
  {
   "cell_type": "code",
   "execution_count": null,
   "id": "15905fa9-0837-4370-847a-7a9a7d6faa68",
   "metadata": {},
   "outputs": [],
   "source": [
    "import time  \n",
    "from confluent_kafka import Producer\n",
    "import requests\n",
    "\n",
    "# Configuration du producteur Kafka\n",
    "conf = {\n",
    "    'bootstrap.servers': 'localhost:9092',  # Adresse et port du broker Kafka\n",
    "    'client.id': 'python-producer'\n",
    "}\n",
    "\n",
    "# Création d'une instance de producteur\n",
    "producer = Producer(conf)\n",
    "\n",
    "# Exemple de fonction pour envoyer des données à un topic Kafka\n",
    "def produce_to_kafka(topic, data):\n",
    "    producer.produce(topic, key=None, value=data)\n",
    "    producer.flush()\n",
    "\n",
    "# Remplacez cette URL par l'API que vous souhaitez consommer\n",
    "api_url = 'https://randomuser.me/api/'\n",
    "\n",
    "while True:\n",
    "    # Récupérez des données depuis l'API\n",
    "    response = requests.get(api_url)\n",
    "    data = response.json()\n",
    "\n",
    "    # Publiez les données dans un topic Kafka\n",
    "    produce_to_kafka('my_topic', str(data))\n",
    "    print(data)\n",
    "    time.sleep(1)  \n",
    "\n",
    "# Fermez le producteur Kafka lorsque vous avez terminé\n",
    "producer.close()\n"
   ]
  },
  {
   "cell_type": "code",
   "execution_count": 3,
   "id": "986b6720-7c8c-40cd-baea-2e77bd957e93",
   "metadata": {},
   "outputs": [
    {
     "name": "stdout",
     "output_type": "stream",
     "text": [
      "Collecting kafka-python\n",
      "  Downloading kafka_python-2.0.2-py2.py3-none-any.whl (246 kB)\n",
      "\u001b[2K     \u001b[90m━━━━━━━━━━━━━━━━━━━━━━━━━━━━━━━━━━━━━━━\u001b[0m \u001b[32m246.5/246.5 kB\u001b[0m \u001b[31m1.3 MB/s\u001b[0m eta \u001b[36m0:00:00\u001b[0m00:01\u001b[0m00:01\u001b[0m\n",
      "\u001b[?25hInstalling collected packages: kafka-python\n",
      "Successfully installed kafka-python-2.0.2\n",
      "Note: you may need to restart the kernel to use updated packages.\n"
     ]
    }
   ],
   "source": [
    "pip install kafka-python"
   ]
  },
  {
   "cell_type": "code",
   "execution_count": 5,
   "id": "d7e700c8-5c32-4c9a-b61f-538a3dac61a8",
   "metadata": {},
   "outputs": [
    {
     "name": "stdout",
     "output_type": "stream",
     "text": [
      "Collecting confluent-kafka\n",
      "  Downloading confluent_kafka-2.3.0-cp311-cp311-manylinux_2_17_x86_64.manylinux2014_x86_64.whl.metadata (2.3 kB)\n",
      "Downloading confluent_kafka-2.3.0-cp311-cp311-manylinux_2_17_x86_64.manylinux2014_x86_64.whl (4.0 MB)\n",
      "\u001b[2K   \u001b[90m━━━━━━━━━━━━━━━━━━━━━━━━━━━━━━━━━━━━━━━━\u001b[0m \u001b[32m4.0/4.0 MB\u001b[0m \u001b[31m274.9 kB/s\u001b[0m eta \u001b[36m0:00:00\u001b[0m00:01\u001b[0m00:01\u001b[0m\n",
      "\u001b[?25hInstalling collected packages: confluent-kafka\n",
      "Successfully installed confluent-kafka-2.3.0\n",
      "Note: you may need to restart the kernel to use updated packages.\n"
     ]
    }
   ],
   "source": [
    "pip install confluent-kafka"
   ]
  }
 ],
 "metadata": {
  "kernelspec": {
   "display_name": "Python 3 (ipykernel)",
   "language": "python",
   "name": "python3"
  },
  "language_info": {
   "codemirror_mode": {
    "name": "ipython",
    "version": 3
   },
   "file_extension": ".py",
   "mimetype": "text/x-python",
   "name": "python",
   "nbconvert_exporter": "python",
   "pygments_lexer": "ipython3",
   "version": "3.11.6"
  }
 },
 "nbformat": 4,
 "nbformat_minor": 5
}
