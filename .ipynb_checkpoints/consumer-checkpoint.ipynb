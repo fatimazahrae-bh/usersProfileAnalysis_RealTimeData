{
 "cells": [
  {
   "cell_type": "code",
   "execution_count": 1,
   "id": "60857da2-416c-41a1-9fa2-95b757444981",
   "metadata": {},
   "outputs": [
    {
     "name": "stdout",
     "output_type": "stream",
     "text": [
      "Requirement already satisfied: confluent-kafka in /opt/conda/lib/python3.11/site-packages (2.3.0)\n",
      "Note: you may need to restart the kernel to use updated packages.\n"
     ]
    }
   ],
   "source": [
    "pip install confluent-kafka"
   ]
  },
  {
   "cell_type": "code",
   "execution_count": 3,
   "id": "bde65d5f-6203-4abf-949c-4481773c6f45",
   "metadata": {},
   "outputs": [],
   "source": [
    "from confluent_kafka import Consumer, KafkaError\n",
    "\n",
    "# Configuration du consommateur Kafka\n",
    "conf = {\n",
    "    'bootstrap.servers': 'localhost:9092',  # Adresse et port du broker Kafka\n",
    "    'group.id': 'my_consumer_group',  # Identifiant du groupe de consommateurs\n",
    "    'auto.offset.reset': 'earliest'  # Démarre à partir du début du topic\n",
    "}\n",
    "\n",
    "# Création d'une instance de consommateur\n",
    "consumer = Consumer(conf)\n",
    "\n",
    "# Abonnement au topic\n",
    "consumer.subscribe(['my_topic'])  \n",
    "\n",
    "try:\n",
    "    while True:\n",
    "        # Attendez un message depuis le topic\n",
    "        msg = consumer.poll(1.0)\n",
    "\n",
    "        if msg is None:\n",
    "            continue\n",
    "        if msg.error():\n",
    "            if msg.error().code() == KafkaError._PARTITION_EOF:\n",
    "                print('Fin de la partition')\n",
    "            else:\n",
    "                print('Erreur lors de la lecture du message:', msg.error())\n",
    "        else:\n",
    "            # Affichez la clé et la valeur du message\n",
    "            print('Clé: %s | Valeur: %s' % (msg.key(), msg.value()))\n",
    "\n",
    "except KeyboardInterrupt:\n",
    "    pass\n",
    "\n",
    "finally:\n",
    "    # Fermez le consommateur Kafka\n",
    "    consumer.close()\n"
   ]
  }
 ],
 "metadata": {
  "kernelspec": {
   "display_name": "Python 3 (ipykernel)",
   "language": "python",
   "name": "python3"
  },
  "language_info": {
   "codemirror_mode": {
    "name": "ipython",
    "version": 3
   },
   "file_extension": ".py",
   "mimetype": "text/x-python",
   "name": "python",
   "nbconvert_exporter": "python",
   "pygments_lexer": "ipython3",
   "version": "3.11.6"
  }
 },
 "nbformat": 4,
 "nbformat_minor": 5
}
